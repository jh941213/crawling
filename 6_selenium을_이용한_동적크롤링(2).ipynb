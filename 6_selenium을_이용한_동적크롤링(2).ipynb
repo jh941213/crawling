{
  "nbformat": 4,
  "nbformat_minor": 0,
  "metadata": {
    "colab": {
      "provenance": [],
      "collapsed_sections": [
        "B4cW9hb8dkbK"
      ],
      "include_colab_link": true
    },
    "kernelspec": {
      "name": "python3",
      "display_name": "Python 3"
    }
  },
  "cells": [
    {
      "cell_type": "markdown",
      "metadata": {
        "id": "view-in-github",
        "colab_type": "text"
      },
      "source": [
        "<a href=\"https://colab.research.google.com/github/jh941213/crawling/blob/main/6_selenium%E1%84%8B%E1%85%B3%E1%86%AF_%E1%84%8B%E1%85%B5%E1%84%8B%E1%85%AD%E1%86%BC%E1%84%92%E1%85%A1%E1%86%AB_%E1%84%83%E1%85%A9%E1%86%BC%E1%84%8C%E1%85%A5%E1%86%A8%E1%84%8F%E1%85%B3%E1%84%85%E1%85%A9%E1%86%AF%E1%84%85%E1%85%B5%E1%86%BC(2).ipynb\" target=\"_parent\"><img src=\"https://colab.research.google.com/assets/colab-badge.svg\" alt=\"Open In Colab\"/></a>"
      ]
    },
    {
      "cell_type": "markdown",
      "metadata": {
        "id": "zxgH1HU4tAbu"
      },
      "source": [
        "# 11. selenium을 이용한 동적크롤링(2)"
      ]
    },
    {
      "cell_type": "markdown",
      "metadata": {
        "id": "mwKxkgAI03X5"
      },
      "source": [
        "## 1번. selenium 코드 응용"
      ]
    },
    {
      "cell_type": "markdown",
      "metadata": {
        "id": "luOkaA43wzON"
      },
      "source": [
        "### 1-1. selenium을 사용하기 위해 필요한 모듈을 설치해준다."
      ]
    },
    {
      "cell_type": "code",
      "metadata": {
        "id": "GTjjrWqfjaOm"
      },
      "source": [
        "import sys\n",
        "\n",
        "# install chromium, its driver, and selenium\n",
        "if 'google.colab' in sys.modules:\n",
        "    !apt-get update\n",
        "    !apt install chromium-chromedriver\n",
        "    !cp /usr/lib/chromium-browser/chromedriver /usr/bin\n",
        "    !pip install selenium\n",
        "\n",
        "# set options to be headless, ..\n",
        "from selenium import webdriver\n",
        "from selenium.webdriver.common.by import By\n",
        "from selenium.webdriver.support.ui import WebDriverWait\n",
        "from selenium.webdriver.support import expected_conditions as EC\n",
        "\n",
        "from bs4 import BeautifulSoup\n",
        "import re\n",
        "\n",
        "if 'ipykernel' in sys.modules:\n",
        "    from tqdm.notebook import tqdm\n",
        "else:\n",
        "    from tqdm import tqdm"
      ],
      "execution_count": null,
      "outputs": []
    },
    {
      "cell_type": "code",
      "metadata": {
        "id": "-N7vIiaQyIcV"
      },
      "source": [
        "options = webdriver.ChromeOptions()\n",
        "options.add_argument('--headless')\n",
        "options.add_argument('--no-sandbox')\n",
        "options.add_argument('--disable-dev-shm-usage')\n",
        "\n",
        "driver = webdriver.Chrome('chromedriver', options=options)"
      ],
      "execution_count": null,
      "outputs": []
    },
    {
      "cell_type": "markdown",
      "metadata": {
        "id": "vOdkYP1CuhTw"
      },
      "source": [
        "### 1-2. selenium의 기본 사용 코드는 다음과 같다.\n",
        "#### (1) 엘레멘트 접근 방법\n",
        "다양한 방법으로 엘레멘트에 접근할 수 있지만 주로 xpath를 사용한다.\n",
        "\n",
        "주의 : class name에 띄어쓰기가 포함되어 있다면 띄어쓰기 대신 온점('.')으로 꼭 입력해주어야 한다.\n",
        "\n",
        "(ex. 'sub_time suv_txt' => 'sub_time.suv_text' )"
      ]
    },
    {
      "cell_type": "code",
      "metadata": {
        "id": "3LJPA3RgkmAN"
      },
      "source": [
        "# xpath\n",
        "driver.find_element_by_xpath('/html/body/div[2]/div[2]/div[1]/div/div[3]/form/fieldset/button/span[2]')\n",
        "# class속성\n",
        "driver.find_element_by_class_name('ico_search_submit')\n",
        "# id속성\n",
        "driver.find_element_by_id('ke_kbd_btn')\n",
        "# 링크가 있는 텍스트\n",
        "driver.find_element_by_link_text('회원가입')\n",
        "# css 셀렉터\n",
        "driver.find_element_by_css_selector('#account > div > a')\n",
        "# name 속성\n",
        "driver.find_element_by_name('join') \n",
        "# 링크가 있는 텍스트 일부\n",
        "driver.find_element_by_partial_link_text('가입')\n",
        "# 태그 이름\n",
        "driver.find_element_by_tag_name('input')\n",
        "# 속성값 가져오기\n",
        "driver.get_attribute('href')\n",
        "\n",
        "# <응용>\n",
        "# 상위태그 + 하위태그\n",
        "driver.find_element_by_tag_name('input').find_element_by_tag_name('a')\n",
        "# xpath 로 접근한 엘레먼트의 안에 join 이라는 속성을 가진 tag 엘레먼트에 접근\n",
        "driver.find_element_by_xpath('/html/body/div[2]/div[2]/div[1]/div/div[3]/form/fieldset/button/span[2]').find_element_by_name('join') "
      ],
      "execution_count": null,
      "outputs": []
    },
    {
      "cell_type": "markdown",
      "metadata": {
        "id": "KdpleHL5v0t9"
      },
      "source": [
        "#### (2) 엘레멘트 클릭 / 텍스트 입력 & 삭제\n",
        "검색창에 텍스트를 입력하고 버튼을 클릭하는 과정을 통해 url 입력 필요없이 다른 페이지로 넘어갈 수 있다.\n",
        "- 엘레멘트 클릭 => click()\n",
        "- 텍스트 입력 => send_keys()\n",
        "- 텍스트 삭제 => clear()"
      ]
    },
    {
      "cell_type": "code",
      "metadata": {
        "id": "94hSKqBOtpj8"
      },
      "source": [
        "# 텍스트 입력 \n",
        "driver.find_element_by_class_name('input_text').send_keys('코로나')\n",
        "# 텍스트 삭제\n",
        "driver.find_element_by_class_name('input_text').clear() \n",
        "\n",
        "\n",
        "# 검색버튼 누르기\n",
        "# 1번째 방법\n",
        "driver.find_element_by_xpath('//*[@id=\"search_btn\"]/span[2]').click()\n",
        "\n",
        "# 2번째 방법\n",
        "driver.find_element_by_class_name('input_text').send_keys('\\n')\n",
        "# >> 우리가 흔히 검색어를 입력하고 엔터를 치면 검색이 되듯이\n",
        "#    엔터('\\n')를 send_keys()로 입력하면 검색버튼을 누르는 것과 동일하게 된다."
      ],
      "execution_count": null,
      "outputs": []
    },
    {
      "cell_type": "markdown",
      "metadata": {
        "id": "22C9eJu1yCy5"
      },
      "source": [
        "#### (3) 뒤로가기 or 앞으로가기\n",
        "이전 페이지로 돌아가거나 앞 페이지로 갈 수 있다."
      ]
    },
    {
      "cell_type": "code",
      "metadata": {
        "id": "Syi26_CnyHGD"
      },
      "source": [
        "# 뒤로가기\n",
        "driver.back()\n",
        "\n",
        "#앞으로 가기\n",
        "driver.forward()"
      ],
      "execution_count": null,
      "outputs": []
    },
    {
      "cell_type": "markdown",
      "metadata": {
        "id": "GWDxP5wzyNQx"
      },
      "source": [
        "#### (4) 스크린샷 찍기\n",
        "특정 엘레멘트의 스크린샷을 찍어 이미지 파일로 저장이 가능하다."
      ]
    },
    {
      "cell_type": "code",
      "metadata": {
        "id": "aWodjdXKySNE"
      },
      "source": [
        "#웹페이지 전체 캡쳐\n",
        "driver.save_screenshot('webpage.png')\n",
        "\n",
        "#특정 엘레먼트 캡쳐\n",
        "element = driver.find_element_by_class_name('ico.search_submit')\n",
        "element.screenshot_as_png"
      ],
      "execution_count": null,
      "outputs": []
    },
    {
      "cell_type": "markdown",
      "metadata": {
        "id": "R5dpK1HRyi0j"
      },
      "source": [
        "## 2. selenium으로 네이버에 직접 키워드 입력하여 연관검색어 찾기"
      ]
    },
    {
      "cell_type": "markdown",
      "metadata": {
        "id": "x2Ig_0DUyzKT"
      },
      "source": [
        "### 2-1.네이버 홈페이지에서 selenium을 이용하여 **검색창에 키워드를 입력**시킨 뒤 검색된 페이지로 넘어간다."
      ]
    },
    {
      "cell_type": "code",
      "metadata": {
        "id": "icffnbW_XDwU",
        "colab": {
          "base_uri": "https://localhost:8080/",
          "height": 288
        },
        "outputId": "fb0515af-b8be-4cbc-ec93-76015246c27f"
      },
      "source": [
        "import time\n",
        "\n",
        "driver = webdriver.Chrome('chromedriver', options=options)\n",
        "\n",
        "url = 'https://www.naver.com'\n",
        "\n",
        "driver.get(url)\n",
        "\n",
        "# 검색어 입력\n",
        "driver.find_element_by_class_name('input_text').send_keys('코로나')\n",
        "\n",
        "# 검색버튼 누르기\n",
        "driver.find_element_by_xpath('//*[@id=\"search_btn\"]/span[2]').click()\n",
        "# driver.find_element_by_class_name('input_text').send_keys('\\n')  #다른방법\n",
        "time.sleep(3)"
      ],
      "execution_count": null,
      "outputs": [
        {
          "output_type": "error",
          "ename": "AttributeError",
          "evalue": "ignored",
          "traceback": [
            "\u001b[0;31m---------------------------------------------------------------------------\u001b[0m",
            "\u001b[0;31mAttributeError\u001b[0m                            Traceback (most recent call last)",
            "\u001b[0;32m<ipython-input-5-6ce3f81ed94b>\u001b[0m in \u001b[0;36m<module>\u001b[0;34m\u001b[0m\n\u001b[1;32m      8\u001b[0m \u001b[0;34m\u001b[0m\u001b[0m\n\u001b[1;32m      9\u001b[0m \u001b[0;31m# 검색어 입력\u001b[0m\u001b[0;34m\u001b[0m\u001b[0;34m\u001b[0m\u001b[0;34m\u001b[0m\u001b[0m\n\u001b[0;32m---> 10\u001b[0;31m \u001b[0mdriver\u001b[0m\u001b[0;34m.\u001b[0m\u001b[0mfind_element_by_class_name\u001b[0m\u001b[0;34m(\u001b[0m\u001b[0;34m'input_text'\u001b[0m\u001b[0;34m)\u001b[0m\u001b[0;34m.\u001b[0m\u001b[0msend_keys\u001b[0m\u001b[0;34m(\u001b[0m\u001b[0;34m'코로나'\u001b[0m\u001b[0;34m)\u001b[0m\u001b[0;34m\u001b[0m\u001b[0;34m\u001b[0m\u001b[0m\n\u001b[0m\u001b[1;32m     11\u001b[0m \u001b[0;34m\u001b[0m\u001b[0m\n\u001b[1;32m     12\u001b[0m \u001b[0;31m# 검색버튼 누르기\u001b[0m\u001b[0;34m\u001b[0m\u001b[0;34m\u001b[0m\u001b[0;34m\u001b[0m\u001b[0m\n",
            "\u001b[0;31mAttributeError\u001b[0m: 'WebDriver' object has no attribute 'find_element_by_class_name'"
          ]
        }
      ]
    },
    {
      "cell_type": "markdown",
      "metadata": {
        "id": "cdOdENFMadau"
      },
      "source": [
        "### 2-2.검색된 페이지에서 **연관검색어**를 찾는다."
      ]
    },
    {
      "cell_type": "code",
      "metadata": {
        "colab": {
          "base_uri": "https://localhost:8080/"
        },
        "id": "l3YCrH5EY-fE",
        "outputId": "5c743361-866c-41c7-c26d-a08fcd8d2a46"
      },
      "source": [
        "# 연관검색어 찾기\n",
        "keywords = driver.find_element_by_class_name('lst_related_srch._list_box').text\n",
        "print(keywords)"
      ],
      "execution_count": null,
      "outputs": [
        {
          "output_type": "stream",
          "text": [
            "코로나 라이브\n",
            "코로나 확진자\n",
            "코로나 4단계 연장\n",
            "코로나 거리두기\n",
            "코로나 4단계\n",
            "코로나 백신\n",
            "코로나 단계\n",
            "코로나 9시\n",
            "코로나 거리두기 단계\n",
            "날씨\n"
          ],
          "name": "stdout"
        }
      ]
    },
    {
      "cell_type": "markdown",
      "metadata": {
        "id": "l_lOdfhgaiRc"
      },
      "source": [
        "### 2-3. 연관검색어가 있는 **엘레멘트를 캡쳐**해본다.\n",
        "(한국어가 들어있는 엘레멘트 캡쳐시 한글 폰트 설치를 해주어야 한다. 설치 후에 런타임 다시 시작하기)"
      ]
    },
    {
      "cell_type": "markdown",
      "metadata": {
        "id": "B4cW9hb8dkbK"
      },
      "source": [
        "#### 한글폰트설치"
      ]
    },
    {
      "cell_type": "code",
      "metadata": {
        "colab": {
          "base_uri": "https://localhost:8080/"
        },
        "id": "YG4qTBE0djkN",
        "outputId": "93126e42-ca1c-45c1-b36e-98bef9d4bcd2"
      },
      "source": [
        "# 그래프에서 한글표현을 위해 폰트를 설치합니다.\n",
        "!apt-get update -qq\n",
        "!apt-get install fonts-nanum* -qq"
      ],
      "execution_count": null,
      "outputs": [
        {
          "output_type": "stream",
          "text": [
            "Selecting previously unselected package fonts-nanum.\n",
            "(Reading database ... \r(Reading database ... 5%\r(Reading database ... 10%\r(Reading database ... 15%\r(Reading database ... 20%\r(Reading database ... 25%\r(Reading database ... 30%\r(Reading database ... 35%\r(Reading database ... 40%\r(Reading database ... 45%\r(Reading database ... 50%\r(Reading database ... 55%\r(Reading database ... 60%\r(Reading database ... 65%\r(Reading database ... 70%\r(Reading database ... 75%\r(Reading database ... 80%\r(Reading database ... 85%\r(Reading database ... 90%\r(Reading database ... 95%\r(Reading database ... 100%\r(Reading database ... 148854 files and directories currently installed.)\n",
            "Preparing to unpack .../fonts-nanum_20170925-1_all.deb ...\n",
            "Unpacking fonts-nanum (20170925-1) ...\n",
            "Selecting previously unselected package fonts-nanum-eco.\n",
            "Preparing to unpack .../fonts-nanum-eco_1.000-6_all.deb ...\n",
            "Unpacking fonts-nanum-eco (1.000-6) ...\n",
            "Selecting previously unselected package fonts-nanum-extra.\n",
            "Preparing to unpack .../fonts-nanum-extra_20170925-1_all.deb ...\n",
            "Unpacking fonts-nanum-extra (20170925-1) ...\n",
            "Selecting previously unselected package fonts-nanum-coding.\n",
            "Preparing to unpack .../fonts-nanum-coding_2.5-1_all.deb ...\n",
            "Unpacking fonts-nanum-coding (2.5-1) ...\n",
            "Setting up fonts-nanum-extra (20170925-1) ...\n",
            "Setting up fonts-nanum (20170925-1) ...\n",
            "Setting up fonts-nanum-coding (2.5-1) ...\n",
            "Setting up fonts-nanum-eco (1.000-6) ...\n",
            "Processing triggers for fontconfig (2.12.6-0ubuntu2) ...\n"
          ],
          "name": "stdout"
        }
      ]
    },
    {
      "cell_type": "code",
      "metadata": {
        "colab": {
          "base_uri": "https://localhost:8080/"
        },
        "id": "RsOuqupld_2s",
        "outputId": "f132afda-c841-4c7a-d581-675ef4ee2a66"
      },
      "source": [
        "import matplotlib.pyplot as plt  # 그래프 그리는 용도\n",
        "import matplotlib.font_manager as fm  # 폰트 관련 용도\n",
        "path = '/usr/share/fonts/truetype/nanum/NanumGothicEco.ttf'  # 설치된 나눔글꼴중 원하는 녀석의 전체 경로를 가져오자\n",
        "font_name = fm.FontProperties(fname=path, size=10).get_name()\n",
        "print(font_name)\n",
        "plt.rc('font', family=font_name)\n",
        "\n",
        "fm._rebuild()"
      ],
      "execution_count": null,
      "outputs": [
        {
          "output_type": "stream",
          "text": [
            "NanumGothic Eco\n"
          ],
          "name": "stdout"
        }
      ]
    },
    {
      "cell_type": "markdown",
      "metadata": {
        "id": "c_wqTuHadoB7"
      },
      "source": [
        "#### 연관 검색어 캡쳐하기\n",
        "아래 코드를 실행한 뒤 저장된 파일을 열어보면 캡쳐된 연관검색어 이미지를 확인할 수 있다."
      ]
    },
    {
      "cell_type": "markdown",
      "metadata": {
        "id": "ph1r4rqJelQd"
      },
      "source": [
        "![24.jpg](data:image/jpeg;base64,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)"
      ]
    },
    {
      "cell_type": "code",
      "metadata": {
        "id": "l_QetAM7aXTm"
      },
      "source": [
        "element = driver.find_element_by_class_name('lst_related_srch._list_box')\n",
        "element_png = element.screenshot_as_png\n",
        "with open('keywords.png','wb') as file :\n",
        "    file.write(element_png)"
      ],
      "execution_count": null,
      "outputs": []
    },
    {
      "cell_type": "code",
      "metadata": {
        "colab": {
          "base_uri": "https://localhost:8080/"
        },
        "id": "jaXzMQu1c89B",
        "outputId": "57c801f6-5ddd-44f7-927e-0d3456c640e6"
      },
      "source": [
        "driver.save_screenshot('webpage.png')"
      ],
      "execution_count": null,
      "outputs": [
        {
          "output_type": "execute_result",
          "data": {
            "text/plain": [
              "True"
            ]
          },
          "metadata": {},
          "execution_count": 8
        }
      ]
    },
    {
      "cell_type": "markdown",
      "metadata": {
        "id": "dLzO1DJZfCPC"
      },
      "source": [
        "### 2-4. 페이지를 다시 **뒤로 돌아간 뒤**, 다른 키워드를 입력하고 연관검색어를 크롤링한다."
      ]
    },
    {
      "cell_type": "code",
      "metadata": {
        "colab": {
          "base_uri": "https://localhost:8080/"
        },
        "id": "R8OQ255Ne6PJ",
        "outputId": "4086201c-7650-4e17-da1b-078c3da74865"
      },
      "source": [
        "# 뒤로가기\n",
        "driver.back() # >> 네이버 홈 화면으로 돌아감\n",
        "\n",
        "# 검색어 입력\n",
        "driver.find_element_by_class_name('input_text').send_keys('백신접종')\n",
        "\n",
        "# 검색버튼 누르기\n",
        "driver.find_element_by_xpath('//*[@id=\"search_btn\"]/span[2]').click()\n",
        "# driver.find_element_by_class_name('input_text').send_keys('\\n')  #다른방법\n",
        "time.sleep(3)\n",
        "\n",
        "# 연관검색어 찾기\n",
        "keywords = driver.find_element_by_class_name('lst_related_srch._list_box').text\n",
        "print(keywords)"
      ],
      "execution_count": null,
      "outputs": [
        {
          "output_type": "stream",
          "text": [
            "백신접종예약\n",
            "백신\n",
            "코로나백신접종예약\n",
            "백신 접종률\n",
            "백신예약\n",
            "코로나 백신 접종\n",
            "코로나19 백신\n",
            "백신접종 증명서\n",
            "백신접종확인\n"
          ],
          "name": "stdout"
        }
      ]
    },
    {
      "cell_type": "markdown",
      "metadata": {
        "id": "Wj6KRtwsfqnG"
      },
      "source": [
        "### 2-5. 이번에는 키워드가 검색된 페이지에서 검색창에 있는 **검색어를 지운 뒤** 다른 키워드를 입력해서 검색해본다."
      ]
    },
    {
      "cell_type": "code",
      "metadata": {
        "colab": {
          "base_uri": "https://localhost:8080/"
        },
        "id": "9UAy_VuBfVTu",
        "outputId": "ff08253b-5329-48bf-daff-46f9ab2b5dc7"
      },
      "source": [
        "# 기존 검색어 삭제\n",
        "driver.find_element_by_class_name('box_window').clear() \n",
        "\n",
        "# 새로운 검색어 입력\n",
        "driver.find_element_by_class_name('box_window').send_keys('자가격리')\n",
        "\n",
        "# 검색 버튼 누르기\n",
        "driver.find_element_by_class_name('box_window').send_keys('\\n')\n",
        "time.sleep(3)\n",
        "\n",
        "# 연관검색어 찾기\n",
        "keywords = driver.find_element_by_class_name('lst_related_srch._list_box').text\n",
        "print(keywords)"
      ],
      "execution_count": null,
      "outputs": [
        {
          "output_type": "stream",
          "text": [
            "자가격리 기준\n",
            "자가격리 지원금\n",
            "자가격리 가족\n",
            "자가격리 구호물품\n",
            "자가격리 영어로\n",
            "자가격리 면제\n",
            "자가격리 신청\n",
            "자가격리 뜻\n",
            "자가격리 위반\n"
          ],
          "name": "stdout"
        }
      ]
    },
    {
      "cell_type": "markdown",
      "metadata": {
        "id": "Tfp7ge97s6U4"
      },
      "source": [
        "### 2-6. **find_by_element_by_link_text** 을 이용하여 연관검색어 중 하나의 연관검색어를 클릭한 뒤 그 연관검색어에 대한 또 다른 연관검색어를 크롤링해본다.\n",
        "find_by_element_by_link_text 는 링크를 갖고 있는 (보여지는)텍스트 값을 이용해서 엘레멘트를 찾는 코드이다. 따라서 잘만 이용하면 xpath를 복사하는 것 보다 훨씬 수원해진다."
      ]
    },
    {
      "cell_type": "code",
      "metadata": {
        "colab": {
          "base_uri": "https://localhost:8080/"
        },
        "id": "wgj2nKlFgqI0",
        "outputId": "f8c87935-e9ee-4f90-88ee-e9b70577f4e7"
      },
      "source": [
        "driver.find_element_by_link_text('자가격리 지원금').click()\n",
        "\n",
        "# 연관검색어 찾기\n",
        "keywords = driver.find_element_by_class_name('lst_related_srch._list_box').text\n",
        "print(keywords)"
      ],
      "execution_count": null,
      "outputs": [
        {
          "output_type": "stream",
          "text": [
            "코로나 자가격리 지원금 신청\n",
            "자가격리 지원금 신청\n",
            "자가격리 지원금 기준\n",
            "고등학생 자가격리 지원금\n",
            "자가격리 구호물품\n",
            "자가격리 기준\n"
          ],
          "name": "stdout"
        }
      ]
    },
    {
      "cell_type": "code",
      "metadata": {
        "id": "wmHEEw6MtTi6"
      },
      "source": [],
      "execution_count": null,
      "outputs": []
    },
    {
      "cell_type": "code",
      "source": [],
      "metadata": {
        "id": "wdas7Sdo8kMF"
      },
      "execution_count": null,
      "outputs": []
    }
  ]
}