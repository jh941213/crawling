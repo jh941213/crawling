{
  "nbformat": 4,
  "nbformat_minor": 0,
  "metadata": {
    "colab": {
      "provenance": [],
      "include_colab_link": true
    },
    "kernelspec": {
      "name": "python3",
      "display_name": "Python 3"
    },
    "language_info": {
      "name": "python"
    }
  },
  "cells": [
    {
      "cell_type": "markdown",
      "metadata": {
        "id": "view-in-github",
        "colab_type": "text"
      },
      "source": [
        "<a href=\"https://colab.research.google.com/github/jh941213/crawling/blob/main/0_%ED%81%AC%EB%A1%A4%EB%A7%81%EB%93%A4%EC%96%B4%EA%B0%80%EA%B8%B0.ipynb\" target=\"_parent\"><img src=\"https://colab.research.google.com/assets/colab-badge.svg\" alt=\"Open In Colab\"/></a>"
      ]
    },
    {
      "cell_type": "markdown",
      "source": [
        "# 0_크롤링 들어가기"
      ],
      "metadata": {
        "id": "LneCN03WnVGj"
      }
    },
    {
      "cell_type": "markdown",
      "source": [
        "1. 크롤링은 브라우저를 대신하는 프로그램을 만드는 것 \n",
        "- 1단계 : 원하는 웹페이지 가져오기 -> requests.get(url)\n",
        "- 2단계 : 원하는 정보 가져오기 -> beautifulsoup, html.select(태그 정보)"
      ],
      "metadata": {
        "id": "6HaTWeNsnf_D"
      }
    },
    {
      "cell_type": "code",
      "source": [
        "# requests, BeautifulSoup import \n",
        "import requests\n",
        "from bs4 import BeautifulSoup"
      ],
      "metadata": {
        "id": "Lr31NmBkoIz_"
      },
      "execution_count": null,
      "outputs": []
    },
    {
      "cell_type": "code",
      "source": [
        "# 1단계 : get\n",
        "url = 'https://search.naver.com/search.naver?where=news&ie=utf8&sm=nws_hty&query=%EC%BD%94%EB%A1%9C%EB%82%98'\n",
        "\n",
        "resp = requests.get(url)\n",
        "resp"
      ],
      "metadata": {
        "colab": {
          "base_uri": "https://localhost:8080/"
        },
        "id": "24DqkNcgoUR_",
        "outputId": "28e0b1b3-555f-42ed-d96e-1d85b5717ede"
      },
      "execution_count": null,
      "outputs": [
        {
          "output_type": "execute_result",
          "data": {
            "text/plain": [
              "<Response [200]>"
            ]
          },
          "metadata": {},
          "execution_count": 4
        }
      ]
    },
    {
      "cell_type": "markdown",
      "source": [
        "response 200 이란?\n",
        "- 응답코드 : 클라이언트가 서버에 정보 요청을 했을 때, 정보제공 여부에 대한 신호\n",
        "- 응답코드 : 웹페이지정보 획득 성공여부\n",
        "- 200 : 성공\n",
        "- 404 : 실패 \n",
        "- 응답코드는 1xx 2xx 3xx 4xx 5xx 수십가지가 있다. \n",
        "- 2개만 외우자. 200(성공) 404(실패)"
      ],
      "metadata": {
        "id": "8FvzpLWqny7c"
      }
    },
    {
      "cell_type": "code",
      "source": [
        "html = resp.content"
      ],
      "metadata": {
        "id": "4ikC5TrrpMWR"
      },
      "execution_count": null,
      "outputs": []
    },
    {
      "cell_type": "code",
      "source": [
        "# 2단계 : select\n",
        "## html -> beautifulsoup 형태로 변환해줘야 함.\n",
        "soup = BeautifulSoup(html, 'lxml')\n",
        "tags = soup.select('div.news_area a')\n",
        "type(tags), len(tags)"
      ],
      "metadata": {
        "colab": {
          "base_uri": "https://localhost:8080/"
        },
        "id": "wSo3k5gsqBxQ",
        "outputId": "ac9af6b7-7258-4e7f-969f-de307c2851cd"
      },
      "execution_count": null,
      "outputs": [
        {
          "output_type": "execute_result",
          "data": {
            "text/plain": [
              "(list, 70)"
            ]
          },
          "metadata": {},
          "execution_count": 6
        }
      ]
    },
    {
      "cell_type": "markdown",
      "source": [
        "# 직접 해보기"
      ],
      "metadata": {
        "id": "pEpQqeiardxi"
      }
    },
    {
      "cell_type": "code",
      "source": [
        "# 1. 뉴스 기사 제목 태그 10개 가져오기\n",
        "import requests\n",
        "from bs4 import BeautifulSoup\n",
        "\n",
        "# get\n",
        "url = 'https://search.naver.com/search.naver?where=news&sm=tab_pge&query=%EC%BD%94%EB%A1%9C%EB%82%98&sort=0&photo=0&field=0&pd=0&ds=&de=&cluster_rank=137&mynews=0&office_type=0&office_section_code=0&news_office_checked=&nso=so:r,p:all,a:all&start=1'\n",
        "\n",
        "resp = requests.get(url)\n",
        "resp"
      ],
      "metadata": {
        "colab": {
          "base_uri": "https://localhost:8080/"
        },
        "id": "28ajIKwKFSU1",
        "outputId": "add93804-1ae8-4580-f808-074765ed777c"
      },
      "execution_count": null,
      "outputs": [
        {
          "output_type": "execute_result",
          "data": {
            "text/plain": [
              "<Response [200]>"
            ]
          },
          "metadata": {},
          "execution_count": 3
        }
      ]
    },
    {
      "cell_type": "code",
      "source": [
        "# select \n",
        "soup = BeautifulSoup(resp.content, 'lxml')\n",
        "a_tags = soup.select('a.news_tit')\n",
        "len(a_tags)"
      ],
      "metadata": {
        "colab": {
          "base_uri": "https://localhost:8080/"
        },
        "id": "M4J3NmgZJwFv",
        "outputId": "4cab455c-0f44-4362-f638-881b4ea738fc"
      },
      "execution_count": null,
      "outputs": [
        {
          "output_type": "execute_result",
          "data": {
            "text/plain": [
              "10"
            ]
          },
          "metadata": {},
          "execution_count": 6
        }
      ]
    },
    {
      "cell_type": "code",
      "source": [
        "# 딕셔너리에 제목 10개랑 링크 10개 저장하고 싶다.\n",
        "news_info = {\n",
        "    'title' : [],\n",
        "    'url' : []\n",
        "}\n",
        "\n",
        "for a_tag in a_tags:\n",
        "    # print(a_tag.text)\n",
        "    # print(a_tag['title'])\n",
        "    # print(a_tag['href'])\n",
        "\n",
        "    news_info['title'].append(a_tag['title'])\n",
        "    news_info['url'].append(a_tag['href'])"
      ],
      "metadata": {
        "id": "EnncB7MEKvYf"
      },
      "execution_count": null,
      "outputs": []
    },
    {
      "cell_type": "code",
      "source": [
        "news_info"
      ],
      "metadata": {
        "colab": {
          "base_uri": "https://localhost:8080/"
        },
        "id": "OgCpeq88E0C_",
        "outputId": "d559c256-2d7c-4cde-ec3f-ffe53568d926"
      },
      "execution_count": null,
      "outputs": [
        {
          "output_type": "execute_result",
          "data": {
            "text/plain": [
              "{'title': ['오늘부터 18∼59세도 코로나 개량백신 사전예약…3가지 중 택1',\n",
              "  '코로나 개량 백신, 성인 전체로 확대… 오늘부터 예약 가능',\n",
              "  '경제력·최종학력 차이, 코로나로 인한 건강 불평등 악화시켰다',\n",
              "  '법원, 코로나증상 직원 근무시킨 병원, 환자 유가족에 \"위자료 지급하라\"',\n",
              "  '동절기 코로나 백신 추가접종 ‘모든 성인’ 확대…2가백신 활용',\n",
              "  '코로나 일일 통계 발표 다음주부터 중단…홈페이지만 공개',\n",
              "  '코로나 동절기 접종 27일부터 예약…\"모든 성인이 대상\"',\n",
              "  '코로나 재유행, 사망자 1년새 15.8% 늘어',\n",
              "  '\"코로나 때문에 간호사 약 59% 휴게시간 보장 못받아\"',\n",
              "  \"'코로나 백신 이상반응' 누적 48만건…152건 추가 보상\"],\n",
              " 'url': ['https://www.yna.co.kr/view/AKR20221026137600530?input=1195m',\n",
              "  'https://www.donga.com/news/article/all/20221026/116169589/1',\n",
              "  'http://news.mk.co.kr/newsRead.php?no=953965&year=2022',\n",
              "  'http://www.newsis.com/view/?id=NISX20221026_0002062362&cID=10810&pID=10800',\n",
              "  'https://biz.chosun.com/topics/topics_social/2022/10/26/5R6AXFI7ZFENXGX2YMF2TODYCY/?utm_source=naver&utm_medium=original&utm_campaign=biz',\n",
              "  'https://www.joongang.co.kr/article/25112353',\n",
              "  'http://www.newsis.com/view/?id=NISX20221026_0002061903&cID=10201&pID=10200',\n",
              "  'http://www.segye.com/content/html/2022/10/26/20221026511128.html?OutUrl=naver',\n",
              "  'http://www.womennews.co.kr/news/articleView.html?idxno=229199',\n",
              "  'http://www.newsis.com/view/?id=NISX20221027_0002063589&cID=10201&pID=10200']}"
            ]
          },
          "metadata": {},
          "execution_count": 19
        }
      ]
    },
    {
      "cell_type": "code",
      "source": [
        "import pandas as pd\n",
        "\n",
        "df_news = pd.DataFrame(news_info)\n",
        "df_news.to_csv('뉴스정보.csv', encoding='utf-8-sig', index=False)"
      ],
      "metadata": {
        "id": "hp-m_JfUJwU3"
      },
      "execution_count": null,
      "outputs": []
    },
    {
      "cell_type": "code",
      "source": [
        "df_news = pd.read_csv('뉴스정보.csv')\n",
        "df_news"
      ],
      "metadata": {
        "colab": {
          "base_uri": "https://localhost:8080/",
          "height": 563
        },
        "id": "ZadNa1UiKXqw",
        "outputId": "2f82ac90-784f-4b04-f062-4ae621533199"
      },
      "execution_count": null,
      "outputs": [
        {
          "output_type": "execute_result",
          "data": {
            "text/plain": [
              "                                      title  \\\n",
              "0       오늘부터 18∼59세도 코로나 개량백신 사전예약…3가지 중 택1   \n",
              "1          코로나 개량 백신, 성인 전체로 확대… 오늘부터 예약 가능   \n",
              "2         경제력·최종학력 차이, 코로나로 인한 건강 불평등 악화시켰다   \n",
              "3  법원, 코로나증상 직원 근무시킨 병원, 환자 유가족에 \"위자료 지급하라\"   \n",
              "4        동절기 코로나 백신 추가접종 ‘모든 성인’ 확대…2가백신 활용   \n",
              "5            코로나 일일 통계 발표 다음주부터 중단…홈페이지만 공개   \n",
              "6           코로나 동절기 접종 27일부터 예약…\"모든 성인이 대상\"   \n",
              "7                 코로나 재유행, 사망자 1년새 15.8% 늘어   \n",
              "8           \"코로나 때문에 간호사 약 59% 휴게시간 보장 못받아\"   \n",
              "9          '코로나 백신 이상반응' 누적 48만건…152건 추가 보상   \n",
              "\n",
              "                                                 url  \n",
              "0  https://www.yna.co.kr/view/AKR2022102613760053...  \n",
              "1  https://www.donga.com/news/article/all/2022102...  \n",
              "2  http://news.mk.co.kr/newsRead.php?no=953965&ye...  \n",
              "3  http://www.newsis.com/view/?id=NISX20221026_00...  \n",
              "4  https://biz.chosun.com/topics/topics_social/20...  \n",
              "5        https://www.joongang.co.kr/article/25112353  \n",
              "6  http://www.newsis.com/view/?id=NISX20221026_00...  \n",
              "7  http://www.segye.com/content/html/2022/10/26/2...  \n",
              "8  http://www.womennews.co.kr/news/articleView.ht...  \n",
              "9  http://www.newsis.com/view/?id=NISX20221027_00...  "
            ],
            "text/html": [
              "\n",
              "  <div id=\"df-f131bce6-034c-4780-a181-228190ca6b23\">\n",
              "    <div class=\"colab-df-container\">\n",
              "      <div>\n",
              "<style scoped>\n",
              "    .dataframe tbody tr th:only-of-type {\n",
              "        vertical-align: middle;\n",
              "    }\n",
              "\n",
              "    .dataframe tbody tr th {\n",
              "        vertical-align: top;\n",
              "    }\n",
              "\n",
              "    .dataframe thead th {\n",
              "        text-align: right;\n",
              "    }\n",
              "</style>\n",
              "<table border=\"1\" class=\"dataframe\">\n",
              "  <thead>\n",
              "    <tr style=\"text-align: right;\">\n",
              "      <th></th>\n",
              "      <th>title</th>\n",
              "      <th>url</th>\n",
              "    </tr>\n",
              "  </thead>\n",
              "  <tbody>\n",
              "    <tr>\n",
              "      <th>0</th>\n",
              "      <td>오늘부터 18∼59세도 코로나 개량백신 사전예약…3가지 중 택1</td>\n",
              "      <td>https://www.yna.co.kr/view/AKR2022102613760053...</td>\n",
              "    </tr>\n",
              "    <tr>\n",
              "      <th>1</th>\n",
              "      <td>코로나 개량 백신, 성인 전체로 확대… 오늘부터 예약 가능</td>\n",
              "      <td>https://www.donga.com/news/article/all/2022102...</td>\n",
              "    </tr>\n",
              "    <tr>\n",
              "      <th>2</th>\n",
              "      <td>경제력·최종학력 차이, 코로나로 인한 건강 불평등 악화시켰다</td>\n",
              "      <td>http://news.mk.co.kr/newsRead.php?no=953965&amp;ye...</td>\n",
              "    </tr>\n",
              "    <tr>\n",
              "      <th>3</th>\n",
              "      <td>법원, 코로나증상 직원 근무시킨 병원, 환자 유가족에 \"위자료 지급하라\"</td>\n",
              "      <td>http://www.newsis.com/view/?id=NISX20221026_00...</td>\n",
              "    </tr>\n",
              "    <tr>\n",
              "      <th>4</th>\n",
              "      <td>동절기 코로나 백신 추가접종 ‘모든 성인’ 확대…2가백신 활용</td>\n",
              "      <td>https://biz.chosun.com/topics/topics_social/20...</td>\n",
              "    </tr>\n",
              "    <tr>\n",
              "      <th>5</th>\n",
              "      <td>코로나 일일 통계 발표 다음주부터 중단…홈페이지만 공개</td>\n",
              "      <td>https://www.joongang.co.kr/article/25112353</td>\n",
              "    </tr>\n",
              "    <tr>\n",
              "      <th>6</th>\n",
              "      <td>코로나 동절기 접종 27일부터 예약…\"모든 성인이 대상\"</td>\n",
              "      <td>http://www.newsis.com/view/?id=NISX20221026_00...</td>\n",
              "    </tr>\n",
              "    <tr>\n",
              "      <th>7</th>\n",
              "      <td>코로나 재유행, 사망자 1년새 15.8% 늘어</td>\n",
              "      <td>http://www.segye.com/content/html/2022/10/26/2...</td>\n",
              "    </tr>\n",
              "    <tr>\n",
              "      <th>8</th>\n",
              "      <td>\"코로나 때문에 간호사 약 59% 휴게시간 보장 못받아\"</td>\n",
              "      <td>http://www.womennews.co.kr/news/articleView.ht...</td>\n",
              "    </tr>\n",
              "    <tr>\n",
              "      <th>9</th>\n",
              "      <td>'코로나 백신 이상반응' 누적 48만건…152건 추가 보상</td>\n",
              "      <td>http://www.newsis.com/view/?id=NISX20221027_00...</td>\n",
              "    </tr>\n",
              "  </tbody>\n",
              "</table>\n",
              "</div>\n",
              "      <button class=\"colab-df-convert\" onclick=\"convertToInteractive('df-f131bce6-034c-4780-a181-228190ca6b23')\"\n",
              "              title=\"Convert this dataframe to an interactive table.\"\n",
              "              style=\"display:none;\">\n",
              "        \n",
              "  <svg xmlns=\"http://www.w3.org/2000/svg\" height=\"24px\"viewBox=\"0 0 24 24\"\n",
              "       width=\"24px\">\n",
              "    <path d=\"M0 0h24v24H0V0z\" fill=\"none\"/>\n",
              "    <path d=\"M18.56 5.44l.94 2.06.94-2.06 2.06-.94-2.06-.94-.94-2.06-.94 2.06-2.06.94zm-11 1L8.5 8.5l.94-2.06 2.06-.94-2.06-.94L8.5 2.5l-.94 2.06-2.06.94zm10 10l.94 2.06.94-2.06 2.06-.94-2.06-.94-.94-2.06-.94 2.06-2.06.94z\"/><path d=\"M17.41 7.96l-1.37-1.37c-.4-.4-.92-.59-1.43-.59-.52 0-1.04.2-1.43.59L10.3 9.45l-7.72 7.72c-.78.78-.78 2.05 0 2.83L4 21.41c.39.39.9.59 1.41.59.51 0 1.02-.2 1.41-.59l7.78-7.78 2.81-2.81c.8-.78.8-2.07 0-2.86zM5.41 20L4 18.59l7.72-7.72 1.47 1.35L5.41 20z\"/>\n",
              "  </svg>\n",
              "      </button>\n",
              "      \n",
              "  <style>\n",
              "    .colab-df-container {\n",
              "      display:flex;\n",
              "      flex-wrap:wrap;\n",
              "      gap: 12px;\n",
              "    }\n",
              "\n",
              "    .colab-df-convert {\n",
              "      background-color: #E8F0FE;\n",
              "      border: none;\n",
              "      border-radius: 50%;\n",
              "      cursor: pointer;\n",
              "      display: none;\n",
              "      fill: #1967D2;\n",
              "      height: 32px;\n",
              "      padding: 0 0 0 0;\n",
              "      width: 32px;\n",
              "    }\n",
              "\n",
              "    .colab-df-convert:hover {\n",
              "      background-color: #E2EBFA;\n",
              "      box-shadow: 0px 1px 2px rgba(60, 64, 67, 0.3), 0px 1px 3px 1px rgba(60, 64, 67, 0.15);\n",
              "      fill: #174EA6;\n",
              "    }\n",
              "\n",
              "    [theme=dark] .colab-df-convert {\n",
              "      background-color: #3B4455;\n",
              "      fill: #D2E3FC;\n",
              "    }\n",
              "\n",
              "    [theme=dark] .colab-df-convert:hover {\n",
              "      background-color: #434B5C;\n",
              "      box-shadow: 0px 1px 3px 1px rgba(0, 0, 0, 0.15);\n",
              "      filter: drop-shadow(0px 1px 2px rgba(0, 0, 0, 0.3));\n",
              "      fill: #FFFFFF;\n",
              "    }\n",
              "  </style>\n",
              "\n",
              "      <script>\n",
              "        const buttonEl =\n",
              "          document.querySelector('#df-f131bce6-034c-4780-a181-228190ca6b23 button.colab-df-convert');\n",
              "        buttonEl.style.display =\n",
              "          google.colab.kernel.accessAllowed ? 'block' : 'none';\n",
              "\n",
              "        async function convertToInteractive(key) {\n",
              "          const element = document.querySelector('#df-f131bce6-034c-4780-a181-228190ca6b23');\n",
              "          const dataTable =\n",
              "            await google.colab.kernel.invokeFunction('convertToInteractive',\n",
              "                                                     [key], {});\n",
              "          if (!dataTable) return;\n",
              "\n",
              "          const docLinkHtml = 'Like what you see? Visit the ' +\n",
              "            '<a target=\"_blank\" href=https://colab.research.google.com/notebooks/data_table.ipynb>data table notebook</a>'\n",
              "            + ' to learn more about interactive tables.';\n",
              "          element.innerHTML = '';\n",
              "          dataTable['output_type'] = 'display_data';\n",
              "          await google.colab.output.renderOutput(dataTable, element);\n",
              "          const docLink = document.createElement('div');\n",
              "          docLink.innerHTML = docLinkHtml;\n",
              "          element.appendChild(docLink);\n",
              "        }\n",
              "      </script>\n",
              "    </div>\n",
              "  </div>\n",
              "  "
            ]
          },
          "metadata": {},
          "execution_count": 25
        }
      ]
    },
    {
      "cell_type": "code",
      "source": [
        "url = 'https://search.naver.com/search.naver?where=news&ie=utf8&sm=nws_hty&query=%EC%BD%94%EB%A1%9C%EB%82%98'\n",
        "\n",
        "resp = requests.get(url)\n",
        "resp"
      ],
      "metadata": {
        "colab": {
          "base_uri": "https://localhost:8080/"
        },
        "id": "8mcr_ddOLpPz",
        "outputId": "e7886531-a278-4849-a3aa-e436bcab2453"
      },
      "execution_count": null,
      "outputs": [
        {
          "output_type": "execute_result",
          "data": {
            "text/plain": [
              "<Response [200]>"
            ]
          },
          "metadata": {},
          "execution_count": 26
        }
      ]
    },
    {
      "cell_type": "code",
      "source": [
        "soup = BeautifulSoup(resp.content, 'lxml')"
      ],
      "metadata": {
        "id": "U7tXhrd7Lt_g"
      },
      "execution_count": null,
      "outputs": []
    },
    {
      "cell_type": "code",
      "source": [
        "# 2. 연관검색어 태그 10개 가져오기\n",
        "div_tags = soup.select('div.tit')\n",
        "len(div_tags)"
      ],
      "metadata": {
        "colab": {
          "base_uri": "https://localhost:8080/"
        },
        "id": "fy5iFEJEFVoe",
        "outputId": "f69e7d0f-1552-4739-c721-1f66098e00b7"
      },
      "execution_count": null,
      "outputs": [
        {
          "output_type": "execute_result",
          "data": {
            "text/plain": [
              "10"
            ]
          },
          "metadata": {},
          "execution_count": 29
        }
      ]
    },
    {
      "cell_type": "code",
      "source": [
        "relatives = []\n",
        "\n",
        "for div_tag in div_tags:\n",
        "    print(div_tag.text)\n",
        "    relatives.append(div_tag.text)\n",
        "    "
      ],
      "metadata": {
        "colab": {
          "base_uri": "https://localhost:8080/"
        },
        "id": "Vs_Z_KBTOqWH",
        "outputId": "eee6d648-fa45-4e42-b49a-b0da76922db0"
      },
      "execution_count": null,
      "outputs": [
        {
          "output_type": "stream",
          "name": "stdout",
          "text": [
            "코로나 확진자\n",
            "코로나19\n",
            "코로나 생활지원금\n",
            "코로나 증상\n",
            "코로나 지원금\n",
            "코로나 신속항원검사\n",
            "코로나 확진자 격리\n",
            "코로나19백신현황\n",
            "코로나 재감염\n",
            "19코로나 확진자\n"
          ]
        }
      ]
    },
    {
      "cell_type": "code",
      "source": [
        "relatives"
      ],
      "metadata": {
        "colab": {
          "base_uri": "https://localhost:8080/"
        },
        "id": "uGkBGGq4AHFt",
        "outputId": "c287faaa-b9c0-496c-d544-76c724c7e827"
      },
      "execution_count": null,
      "outputs": [
        {
          "output_type": "execute_result",
          "data": {
            "text/plain": [
              "['코로나 확진자',\n",
              " '코로나19',\n",
              " '코로나 생활지원금',\n",
              " '코로나 증상',\n",
              " '코로나 지원금',\n",
              " '코로나 신속항원검사',\n",
              " '코로나 확진자 격리',\n",
              " '코로나19백신현황',\n",
              " '코로나 재감염',\n",
              " '19코로나 확진자']"
            ]
          },
          "metadata": {},
          "execution_count": 14
        }
      ]
    },
    {
      "cell_type": "markdown",
      "source": [
        "기사 제목 100개 가져오기\n",
        "- 총 10페이지 가져와야 된다.\n",
        "- requests.get(url) 10번\n",
        "- 1 페이지 1 url"
      ],
      "metadata": {
        "id": "OCyyMORBUCJe"
      }
    },
    {
      "cell_type": "code",
      "source": [
        "news_info = {\n",
        "    'title' : [],\n",
        "    'url' : []\n",
        "}\n",
        "\n",
        "for i in range(10): # 0 -> 1 -> 2 \n",
        "\n",
        "    start = str(i*10 + 1) # '1' -> '11' -> '21'\n",
        "    url = 'https://search.naver.com/search.naver?where=news&sm=tab_pge&query=%EC%BD%94%EB%A1%9C%EB%82%98&sort=0&photo=0&field=0&pd=0&ds=&de=&cluster_rank=57&mynews=0&office_type=0&office_section_code=0&news_office_checked=&nso=so:r,p:all,a:all&start='+start\n",
        "    resp = requests.get(url)\n",
        "\n",
        "    soup = BeautifulSoup(resp.content, 'lxml')\n",
        "    a_tags = soup.select('a.news_tit')\n",
        "\n",
        "    for a_tag in a_tags:\n",
        "        news_info['title'].append(a_tag['title'])\n",
        "        news_info['url'].append(a_tag['href'])\n"
      ],
      "metadata": {
        "id": "D21JgyrvAicF"
      },
      "execution_count": null,
      "outputs": []
    },
    {
      "cell_type": "code",
      "source": [
        "# 딕셔너리를 dataframe으로 변형\n",
        "import pandas as pd\n",
        "df_news = pd.DataFrame(news_info)\n",
        "df_news"
      ],
      "metadata": {
        "id": "zqL8PqtaCHZv",
        "colab": {
          "base_uri": "https://localhost:8080/",
          "height": 606
        },
        "outputId": "9f7fb89c-6731-4976-81ba-52cd4b762cd2"
      },
      "execution_count": null,
      "outputs": [
        {
          "output_type": "execute_result",
          "data": {
            "text/plain": [
              "                                        title  \\\n",
              "0         오늘부터 18∼59세도 코로나 개량백신 사전예약…3가지 중 택1   \n",
              "1                코로나19 이후 경제력·학력 따른 건강 불평등 악화   \n",
              "2        코로나19 백신 피해보상 2만1502건… 사망 인과성 인정 11건   \n",
              "3            코로나 개량 백신, 성인 전체로 확대… 오늘부터 예약 가능   \n",
              "4          동절기 코로나 백신 추가접종 ‘모든 성인’ 확대…2가백신 활용   \n",
              "..                                        ...   \n",
              "95  [기업사회활동] 미래에셋생명, 포스트 코로나 맞아 참여형 언택트 봉사 나서   \n",
              "96                 [그래픽]코로나19 확진자 지역별 현황(27일)   \n",
              "97             광주 지역 코로나19 지표 점점 악화…겨울 재유행 우려   \n",
              "98            \"바이든도 코로나 후유증 겪었나?\" \"주치의 아니라서…\"   \n",
              "99                                 코로나19 방역로봇   \n",
              "\n",
              "                                                  url  \n",
              "0   https://www.yna.co.kr/view/AKR2022102613760053...  \n",
              "1   http://www.newsis.com/view/?id=NISX20221027_00...  \n",
              "2   http://moneys.mt.co.kr/news/mwView.php?no=2022...  \n",
              "3   https://www.donga.com/news/article/all/2022102...  \n",
              "4   https://biz.chosun.com/topics/topics_social/20...  \n",
              "..                                                ...  \n",
              "95  http://www.lawissue.co.kr/view.php?ud=20221024...  \n",
              "96          https://www.news1.kr/photos/view/?5651188  \n",
              "97  https://www.yna.co.kr/view/AKR2022102610030005...  \n",
              "98  http://www.segye.com/content/html/2022/10/26/2...  \n",
              "99  https://www.yna.co.kr/view/PYH2022102610250001...  \n",
              "\n",
              "[100 rows x 2 columns]"
            ],
            "text/html": [
              "\n",
              "  <div id=\"df-69aaf88e-ceb1-447c-b69e-03694c6be449\">\n",
              "    <div class=\"colab-df-container\">\n",
              "      <div>\n",
              "<style scoped>\n",
              "    .dataframe tbody tr th:only-of-type {\n",
              "        vertical-align: middle;\n",
              "    }\n",
              "\n",
              "    .dataframe tbody tr th {\n",
              "        vertical-align: top;\n",
              "    }\n",
              "\n",
              "    .dataframe thead th {\n",
              "        text-align: right;\n",
              "    }\n",
              "</style>\n",
              "<table border=\"1\" class=\"dataframe\">\n",
              "  <thead>\n",
              "    <tr style=\"text-align: right;\">\n",
              "      <th></th>\n",
              "      <th>title</th>\n",
              "      <th>url</th>\n",
              "    </tr>\n",
              "  </thead>\n",
              "  <tbody>\n",
              "    <tr>\n",
              "      <th>0</th>\n",
              "      <td>오늘부터 18∼59세도 코로나 개량백신 사전예약…3가지 중 택1</td>\n",
              "      <td>https://www.yna.co.kr/view/AKR2022102613760053...</td>\n",
              "    </tr>\n",
              "    <tr>\n",
              "      <th>1</th>\n",
              "      <td>코로나19 이후 경제력·학력 따른 건강 불평등 악화</td>\n",
              "      <td>http://www.newsis.com/view/?id=NISX20221027_00...</td>\n",
              "    </tr>\n",
              "    <tr>\n",
              "      <th>2</th>\n",
              "      <td>코로나19 백신 피해보상 2만1502건… 사망 인과성 인정 11건</td>\n",
              "      <td>http://moneys.mt.co.kr/news/mwView.php?no=2022...</td>\n",
              "    </tr>\n",
              "    <tr>\n",
              "      <th>3</th>\n",
              "      <td>코로나 개량 백신, 성인 전체로 확대… 오늘부터 예약 가능</td>\n",
              "      <td>https://www.donga.com/news/article/all/2022102...</td>\n",
              "    </tr>\n",
              "    <tr>\n",
              "      <th>4</th>\n",
              "      <td>동절기 코로나 백신 추가접종 ‘모든 성인’ 확대…2가백신 활용</td>\n",
              "      <td>https://biz.chosun.com/topics/topics_social/20...</td>\n",
              "    </tr>\n",
              "    <tr>\n",
              "      <th>...</th>\n",
              "      <td>...</td>\n",
              "      <td>...</td>\n",
              "    </tr>\n",
              "    <tr>\n",
              "      <th>95</th>\n",
              "      <td>[기업사회활동] 미래에셋생명, 포스트 코로나 맞아 참여형 언택트 봉사 나서</td>\n",
              "      <td>http://www.lawissue.co.kr/view.php?ud=20221024...</td>\n",
              "    </tr>\n",
              "    <tr>\n",
              "      <th>96</th>\n",
              "      <td>[그래픽]코로나19 확진자 지역별 현황(27일)</td>\n",
              "      <td>https://www.news1.kr/photos/view/?5651188</td>\n",
              "    </tr>\n",
              "    <tr>\n",
              "      <th>97</th>\n",
              "      <td>광주 지역 코로나19 지표 점점 악화…겨울 재유행 우려</td>\n",
              "      <td>https://www.yna.co.kr/view/AKR2022102610030005...</td>\n",
              "    </tr>\n",
              "    <tr>\n",
              "      <th>98</th>\n",
              "      <td>\"바이든도 코로나 후유증 겪었나?\" \"주치의 아니라서…\"</td>\n",
              "      <td>http://www.segye.com/content/html/2022/10/26/2...</td>\n",
              "    </tr>\n",
              "    <tr>\n",
              "      <th>99</th>\n",
              "      <td>코로나19 방역로봇</td>\n",
              "      <td>https://www.yna.co.kr/view/PYH2022102610250001...</td>\n",
              "    </tr>\n",
              "  </tbody>\n",
              "</table>\n",
              "<p>100 rows × 2 columns</p>\n",
              "</div>\n",
              "      <button class=\"colab-df-convert\" onclick=\"convertToInteractive('df-69aaf88e-ceb1-447c-b69e-03694c6be449')\"\n",
              "              title=\"Convert this dataframe to an interactive table.\"\n",
              "              style=\"display:none;\">\n",
              "        \n",
              "  <svg xmlns=\"http://www.w3.org/2000/svg\" height=\"24px\"viewBox=\"0 0 24 24\"\n",
              "       width=\"24px\">\n",
              "    <path d=\"M0 0h24v24H0V0z\" fill=\"none\"/>\n",
              "    <path d=\"M18.56 5.44l.94 2.06.94-2.06 2.06-.94-2.06-.94-.94-2.06-.94 2.06-2.06.94zm-11 1L8.5 8.5l.94-2.06 2.06-.94-2.06-.94L8.5 2.5l-.94 2.06-2.06.94zm10 10l.94 2.06.94-2.06 2.06-.94-2.06-.94-.94-2.06-.94 2.06-2.06.94z\"/><path d=\"M17.41 7.96l-1.37-1.37c-.4-.4-.92-.59-1.43-.59-.52 0-1.04.2-1.43.59L10.3 9.45l-7.72 7.72c-.78.78-.78 2.05 0 2.83L4 21.41c.39.39.9.59 1.41.59.51 0 1.02-.2 1.41-.59l7.78-7.78 2.81-2.81c.8-.78.8-2.07 0-2.86zM5.41 20L4 18.59l7.72-7.72 1.47 1.35L5.41 20z\"/>\n",
              "  </svg>\n",
              "      </button>\n",
              "      \n",
              "  <style>\n",
              "    .colab-df-container {\n",
              "      display:flex;\n",
              "      flex-wrap:wrap;\n",
              "      gap: 12px;\n",
              "    }\n",
              "\n",
              "    .colab-df-convert {\n",
              "      background-color: #E8F0FE;\n",
              "      border: none;\n",
              "      border-radius: 50%;\n",
              "      cursor: pointer;\n",
              "      display: none;\n",
              "      fill: #1967D2;\n",
              "      height: 32px;\n",
              "      padding: 0 0 0 0;\n",
              "      width: 32px;\n",
              "    }\n",
              "\n",
              "    .colab-df-convert:hover {\n",
              "      background-color: #E2EBFA;\n",
              "      box-shadow: 0px 1px 2px rgba(60, 64, 67, 0.3), 0px 1px 3px 1px rgba(60, 64, 67, 0.15);\n",
              "      fill: #174EA6;\n",
              "    }\n",
              "\n",
              "    [theme=dark] .colab-df-convert {\n",
              "      background-color: #3B4455;\n",
              "      fill: #D2E3FC;\n",
              "    }\n",
              "\n",
              "    [theme=dark] .colab-df-convert:hover {\n",
              "      background-color: #434B5C;\n",
              "      box-shadow: 0px 1px 3px 1px rgba(0, 0, 0, 0.15);\n",
              "      filter: drop-shadow(0px 1px 2px rgba(0, 0, 0, 0.3));\n",
              "      fill: #FFFFFF;\n",
              "    }\n",
              "  </style>\n",
              "\n",
              "      <script>\n",
              "        const buttonEl =\n",
              "          document.querySelector('#df-69aaf88e-ceb1-447c-b69e-03694c6be449 button.colab-df-convert');\n",
              "        buttonEl.style.display =\n",
              "          google.colab.kernel.accessAllowed ? 'block' : 'none';\n",
              "\n",
              "        async function convertToInteractive(key) {\n",
              "          const element = document.querySelector('#df-69aaf88e-ceb1-447c-b69e-03694c6be449');\n",
              "          const dataTable =\n",
              "            await google.colab.kernel.invokeFunction('convertToInteractive',\n",
              "                                                     [key], {});\n",
              "          if (!dataTable) return;\n",
              "\n",
              "          const docLinkHtml = 'Like what you see? Visit the ' +\n",
              "            '<a target=\"_blank\" href=https://colab.research.google.com/notebooks/data_table.ipynb>data table notebook</a>'\n",
              "            + ' to learn more about interactive tables.';\n",
              "          element.innerHTML = '';\n",
              "          dataTable['output_type'] = 'display_data';\n",
              "          await google.colab.output.renderOutput(dataTable, element);\n",
              "          const docLink = document.createElement('div');\n",
              "          docLink.innerHTML = docLinkHtml;\n",
              "          element.appendChild(docLink);\n",
              "        }\n",
              "      </script>\n",
              "    </div>\n",
              "  </div>\n",
              "  "
            ]
          },
          "metadata": {},
          "execution_count": 32
        }
      ]
    },
    {
      "cell_type": "code",
      "source": [],
      "metadata": {
        "id": "ljfG0oqMNsrg"
      },
      "execution_count": null,
      "outputs": []
    }
  ]
}